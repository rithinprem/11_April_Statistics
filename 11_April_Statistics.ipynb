{
  "nbformat": 4,
  "nbformat_minor": 0,
  "metadata": {
    "colab": {
      "provenance": []
    },
    "kernelspec": {
      "name": "python3",
      "display_name": "Python 3"
    },
    "language_info": {
      "name": "python"
    }
  },
  "cells": [
    {
      "cell_type": "markdown",
      "source": [
        "**1. Generate a list of 100 integers containing values between 90 to 130 and store it in the variable 'int_list'.\n",
        "After generating the list,find the following:**"
      ],
      "metadata": {
        "id": "_JhE46gNdvFc"
      }
    },
    {
      "cell_type": "code",
      "source": [
        "import random\n",
        "import numpy as np\n",
        "\n",
        "int_list = np.random.randint(90,130,100)\n",
        "int_list"
      ],
      "metadata": {
        "colab": {
          "base_uri": "https://localhost:8080/"
        },
        "id": "sJ9L7CqXfPGd",
        "outputId": "21e72214-fee3-4e16-c71f-5706e38738cb"
      },
      "execution_count": null,
      "outputs": [
        {
          "output_type": "execute_result",
          "data": {
            "text/plain": [
              "array([115, 120, 114,  93,  93, 115, 118,  96, 104,  99, 111, 113, 115,\n",
              "       122, 110, 126,  97,  92, 114,  96, 128,  90, 110,  97, 118,  97,\n",
              "       113,  92, 106,  96, 122, 123,  90,  91, 108,  99, 121, 121, 129,\n",
              "        92, 108, 116, 113,  95, 112, 101, 104, 129,  95, 103, 101, 101,\n",
              "       101, 119, 118, 103, 107, 121,  93, 123, 125, 117, 106, 109, 101,\n",
              "        99, 102, 127, 112, 113, 109, 127, 103, 129, 111, 119, 103,  98,\n",
              "       102, 112, 118, 119,  99, 105, 107, 110, 100,  99, 107,  99,  96,\n",
              "       108, 122, 104, 120,  91, 113, 102,  90, 126])"
            ]
          },
          "metadata": {},
          "execution_count": 36
        }
      ]
    },
    {
      "cell_type": "code",
      "execution_count": null,
      "metadata": {
        "colab": {
          "base_uri": "https://localhost:8080/"
        },
        "id": "zBt64HX8dSaB",
        "outputId": "7b1b9146-80a9-48c4-b3b8-869c26f87be9"
      },
      "outputs": [
        {
          "output_type": "stream",
          "name": "stdout",
          "text": [
            "Mean of given array is: 108.28\n",
            "Median of given array is: 108.0\n"
          ]
        }
      ],
      "source": [
        "#1. Write a python function to calculate the mean of a given list of numbers. Create a function to find the median of a list of numbers.\n",
        "\n",
        "def mean_value(arr):\n",
        "  return np.mean(arr)\n",
        "\n",
        "def median_value(arr):\n",
        "  return np.median(arr)\n",
        "\n",
        "\n",
        "print('Mean of given array is:',mean_value(int_list))\n",
        "print('Median of given array is:',median_value(int_list))\n"
      ]
    },
    {
      "cell_type": "code",
      "source": [
        "#2. Develop a program to compute the mode of  a list of integers.\n",
        "\n",
        "import statistics\n",
        "\n",
        "def mode_value(arr):\n",
        "  return statistics.mode(arr)\n",
        "\n",
        "print(\"Mode of given array is:\",mode_value(int_list))"
      ],
      "metadata": {
        "colab": {
          "base_uri": "https://localhost:8080/"
        },
        "id": "jK5QgwsVeh4O",
        "outputId": "77e4ea99-516d-4420-9ccb-e652169fc8d7"
      },
      "execution_count": null,
      "outputs": [
        {
          "output_type": "stream",
          "name": "stdout",
          "text": [
            "Mode of given array is: 99\n"
          ]
        }
      ]
    },
    {
      "cell_type": "code",
      "source": [
        "#3. Implement a funciton to calculate the weighted mean of a list of values and their corresponding weights.\n",
        "\n",
        "weights = np.random.randint(1,5,100)\n",
        "weights"
      ],
      "metadata": {
        "colab": {
          "base_uri": "https://localhost:8080/"
        },
        "id": "9gv2NKhEeoIZ",
        "outputId": "4eed277f-0fe2-4b13-b775-7ffca32df8e5"
      },
      "execution_count": null,
      "outputs": [
        {
          "output_type": "execute_result",
          "data": {
            "text/plain": [
              "array([1, 1, 1, 3, 4, 3, 2, 3, 2, 2, 3, 2, 4, 4, 1, 4, 1, 1, 2, 4, 2, 4,\n",
              "       4, 2, 4, 2, 1, 3, 4, 3, 4, 3, 1, 4, 2, 4, 3, 2, 2, 1, 2, 3, 4, 3,\n",
              "       3, 1, 3, 2, 1, 1, 2, 2, 4, 4, 2, 2, 3, 4, 2, 2, 2, 2, 4, 1, 1, 4,\n",
              "       2, 2, 1, 4, 4, 1, 3, 2, 1, 4, 4, 2, 1, 1, 4, 2, 4, 3, 2, 2, 2, 1,\n",
              "       1, 1, 2, 2, 2, 3, 4, 4, 2, 4, 4, 3])"
            ]
          },
          "metadata": {},
          "execution_count": 39
        }
      ]
    },
    {
      "cell_type": "code",
      "source": [
        "def weighted_mean(arr1,arr2):\n",
        "  if len(arr1)==len(arr2):\n",
        "    sum = 0\n",
        "    for a,b in zip(arr1,arr2):\n",
        "      sum+=a*b\n",
        "    return sum/len(arr1)\n",
        "  else:\n",
        "    return None\n",
        "\n",
        "\n",
        "print(\"Weighted Mean:\",weighted_mean(int_list,weights))\n"
      ],
      "metadata": {
        "colab": {
          "base_uri": "https://localhost:8080/"
        },
        "id": "N3OWgDBVh_oW",
        "outputId": "85d8c6fe-b1b5-47df-e7bc-d34faa1e518d"
      },
      "execution_count": null,
      "outputs": [
        {
          "output_type": "stream",
          "name": "stdout",
          "text": [
            "Weighted Mean: 271.76\n"
          ]
        }
      ]
    },
    {
      "cell_type": "code",
      "source": [
        "#4. Write a Python function to find the geometric mean of a list of positive numbers\n",
        "\n",
        "arr = [4,4,4,5,6,7,8,1]\n",
        "\n",
        "def geometric_mean(arr):\n",
        "  mul = 1\n",
        "  for i in arr:\n",
        "    mul*=i\n",
        "  return mul**(1/len(arr))\n",
        "\n",
        "print(\"Geometric mean:\",geometric_mean(arr))"
      ],
      "metadata": {
        "colab": {
          "base_uri": "https://localhost:8080/"
        },
        "id": "J01iSOpne1La",
        "outputId": "4c1f2986-f01c-489a-ff92-4710fc216e22"
      },
      "execution_count": null,
      "outputs": [
        {
          "output_type": "stream",
          "name": "stdout",
          "text": [
            "Geometric mean: 4.2553585305296515\n"
          ]
        }
      ]
    },
    {
      "cell_type": "code",
      "source": [
        "#5. Create a program to calculate the harmonic mean of a list of values.\n",
        "\n",
        "def harmonic_mean(arr):\n",
        "  denominator = 0\n",
        "  for i in arr:\n",
        "    denominator+=(1/i)\n",
        "\n",
        "  if denominator!=0:\n",
        "    return len(arr)/denominator\n",
        "  else:\n",
        "    return \"error\"\n",
        "\n",
        "print(\"Harmonic Mean:\",harmonic_mean(int_list))"
      ],
      "metadata": {
        "colab": {
          "base_uri": "https://localhost:8080/"
        },
        "id": "75hMNMvYe6zy",
        "outputId": "53c8d59b-9fdf-436b-a847-1384a3d44ca6"
      },
      "execution_count": null,
      "outputs": [
        {
          "output_type": "stream",
          "name": "stdout",
          "text": [
            "Harmonic Mean: 107.1788818008763\n"
          ]
        }
      ]
    },
    {
      "cell_type": "code",
      "source": [
        "#6.  Build a function to determine the midrange of a list of numbers (average of the minimum and maximum)\n",
        "\n",
        "def midrange(arr):\n",
        "  return (max(arr)+min(arr))/2\n",
        "\n",
        "print(\"Midrange of list is:\",midrange(int_list))"
      ],
      "metadata": {
        "colab": {
          "base_uri": "https://localhost:8080/"
        },
        "id": "xpJ5h13ne-QT",
        "outputId": "0584d7b7-d0b5-42d0-f39f-816b344ad320"
      },
      "execution_count": null,
      "outputs": [
        {
          "output_type": "stream",
          "name": "stdout",
          "text": [
            "Midrange of list is: 109.5\n"
          ]
        }
      ]
    },
    {
      "cell_type": "code",
      "source": [
        "#7.  Implement a Python program to find the trimmed mean of a list, excluding a certain percentage of outliers\n",
        "\n",
        "\n",
        "def trimmed_mean(arr,trim_percent):\n",
        "  arr.sort()\n",
        "  n = int(trim_percent*len(arr))\n",
        "  return np.mean(arr[n:-n])\n",
        "\n",
        "trim_percent = 0.2\n",
        "print(\"Trimmed Mean:\",trimmed_mean(int_list,trim_percent))"
      ],
      "metadata": {
        "colab": {
          "base_uri": "https://localhost:8080/"
        },
        "id": "lKWXIR4GfDBd",
        "outputId": "17ec1cca-a2ab-41fb-da19-02071874b7ac"
      },
      "execution_count": null,
      "outputs": [
        {
          "output_type": "stream",
          "name": "stdout",
          "text": [
            "Trimmed Mean: 107.93333333333334\n"
          ]
        }
      ]
    },
    {
      "cell_type": "markdown",
      "source": [
        "**2. Generate a list of 500 integers containing values beetween 200 to 300 and store it in the variable 'int_list2.\n",
        "After generating the list, find the following:**"
      ],
      "metadata": {
        "id": "JXqdGpFAsqMc"
      }
    },
    {
      "cell_type": "code",
      "source": [
        "import random\n",
        "import seaborn as sns\n",
        "import matplotlib.pyplot as plt\n",
        "\n",
        "int_list2 = np.random.randint(200,300,500)"
      ],
      "metadata": {
        "id": "JJDpX00euY7P"
      },
      "execution_count": null,
      "outputs": []
    },
    {
      "cell_type": "code",
      "source": [
        "#1. Compare the given list of visualization for the given data:\n",
        "\n",
        "#Frequency and Gaussian distribution\n",
        "#Frequency smoothened KDE plot\n",
        "#Gaussian distribution and smoothened KDE plot\n",
        "\n",
        "\n",
        "# Plot Frequency and Gaussian distribution\n",
        "plt.figure(figsize=(12, 4))\n",
        "plt.subplot(1, 3, 1)\n",
        "plt.hist(int_list2, bins=20, color='skyblue', edgecolor='black')\n",
        "plt.xlabel('Integer Value')\n",
        "plt.ylabel('Frequency')\n",
        "plt.title('Frequency Distribution of Integers')\n",
        "\n",
        "plt.subplot(1, 3, 2)\n",
        "sns.histplot(int_list2, kde=True, color='skyblue', edgecolor='black')\n",
        "plt.xlabel('Integer Value')\n",
        "plt.ylabel('Density')\n",
        "plt.title('Gaussian Distribution of Integers')\n",
        "\n",
        "\n",
        "\n",
        "\n",
        "plt.subplot(1, 3, 3)\n",
        "sns.kdeplot(int_list2, color='skyblue', linewidth=2)\n",
        "plt.xlabel('Integer Value')\n",
        "plt.ylabel('Density')\n",
        "plt.title('Smoothed KDE Plot of Integers')\n",
        "\n",
        "plt.tight_layout()\n",
        "plt.show()"
      ],
      "metadata": {
        "colab": {
          "base_uri": "https://localhost:8080/",
          "height": 369
        },
        "id": "XnSvrxdRtEhi",
        "outputId": "626ae9aa-036d-45bb-c6d8-afae04d5aebd"
      },
      "execution_count": null,
      "outputs": [
        {
          "output_type": "display_data",
          "data": {
            "text/plain": [
              "<Figure size 1200x400 with 3 Axes>"
            ],
            "image/png": "[encoded data removed]"
          },
          "metadata": {}
        }
      ]
    },
    {
      "cell_type": "code",
      "source": [
        "#2. Write a python function to calculate the range of a given list of numbers.\n",
        "\n",
        "def range_value(arr):\n",
        "    if len(arr) > 0:\n",
        "        return max(arr) - min(arr)\n",
        "    else:\n",
        "        return None\n",
        "\n",
        "print(\"Range is :\",range_value(int_list2))"
      ],
      "metadata": {
        "colab": {
          "base_uri": "https://localhost:8080/"
        },
        "id": "k_ZCNXlUtY2Z",
        "outputId": "905479fc-500b-4b51-d985-b4172e45aa36"
      },
      "execution_count": null,
      "outputs": [
        {
          "output_type": "stream",
          "name": "stdout",
          "text": [
            "Range is : 99\n"
          ]
        }
      ]
    },
    {
      "cell_type": "code",
      "source": [
        "#3. Create a program to find the variance and standard deviation of a list of numbers.\n",
        "\n",
        "def population_variance(arr):\n",
        "  sum=0\n",
        "  mean = np.mean(arr)\n",
        "  for i in arr:\n",
        "    sum = sum + (i-mean)**2\n",
        "  return sum/len(arr)\n",
        "\n",
        "def sample_variance(arr):\n",
        "  sum=0\n",
        "  mean = np.mean(arr)\n",
        "  for i in arr:\n",
        "    sum = sum + (i-mean)**2\n",
        "  return sum/(len(arr)-1)\n",
        "\n",
        "def population_STD(arr):\n",
        "  variance = population_variance(arr)\n",
        "  return variance**0.5\n",
        "\n",
        "def sample_STD(arr):\n",
        "  variance = sample_variance(arr)\n",
        "  return variance**0.5\n",
        "\n",
        "\n",
        "print(\"Variance of list of data(Population):\",population_variance(int_list2))\n",
        "print(\"Variance of list of data(Sample):\",sample_variance(int_list2))\n",
        "\n",
        "print(\"Standard Deviation of list of data(Population):\",population_STD(int_list2))\n",
        "print(\"Standard Deviation of list of data(Sample):\",sample_STD(int_list2))"
      ],
      "metadata": {
        "colab": {
          "base_uri": "https://localhost:8080/"
        },
        "id": "gYOXdX_2texv",
        "outputId": "67221d9e-7aeb-4eb3-d6f1-eb9f29cf3c9d"
      },
      "execution_count": null,
      "outputs": [
        {
          "output_type": "stream",
          "name": "stdout",
          "text": [
            "Variance of list of data(Population): 794.6038239999998\n",
            "Variance of list of data(Sample): 796.1962164328655\n",
            "Standard Deviation of list of data(Population): 28.18871802689863\n",
            "Standard Deviation of list of data(Sample): 28.21694909859791\n"
          ]
        }
      ]
    },
    {
      "cell_type": "code",
      "source": [
        "#4. Implement a function to compute the interquartile range(IQR) of a list of values.\n",
        "\n",
        "def IQR(arr):\n",
        "  q1 = np.percentile(arr,25)\n",
        "  q3 = np.percentile(arr,75)\n",
        "\n",
        "  return q3-q1\n",
        "\n",
        "print(\"IQR is:\",IQR(int_list2))"
      ],
      "metadata": {
        "colab": {
          "base_uri": "https://localhost:8080/"
        },
        "id": "QZEdfIb0tlmV",
        "outputId": "aba14a70-0b91-4b20-c74a-585f8b4cce2c"
      },
      "execution_count": null,
      "outputs": [
        {
          "output_type": "stream",
          "name": "stdout",
          "text": [
            "IQR is: 47.0\n"
          ]
        }
      ]
    },
    {
      "cell_type": "code",
      "source": [
        "#5. Build a program to calculate the coefficient of variation for a dataset.\n",
        "\n",
        "def coefficient_of_variation(data):\n",
        "    mean = np.mean(data)\n",
        "    std_dev = np.std(data)\n",
        "    cv = (std_dev / mean) * 100\n",
        "\n",
        "    return cv\n",
        "\n",
        "print(\"Coefficient of Variation:\", coefficient_of_variation(int_list2))"
      ],
      "metadata": {
        "colab": {
          "base_uri": "https://localhost:8080/"
        },
        "id": "9J5c__kctwZr",
        "outputId": "bee1a046-e760-46b0-9cd1-8997a3ad6826"
      },
      "execution_count": null,
      "outputs": [
        {
          "output_type": "stream",
          "name": "stdout",
          "text": [
            "Coefficient of Variation: 11.28794910657311\n"
          ]
        }
      ]
    },
    {
      "cell_type": "code",
      "source": [
        "#6. Write a Python function to find the mean absolute deviation (MAD) of a list of numbers.\n",
        "\n",
        "def MAD(arr):\n",
        "  sum=0\n",
        "  mean=np.mean(arr)\n",
        "  for i in arr:\n",
        "    sum+=abs(i-mean)\n",
        "\n",
        "  return sum/len(arr)\n",
        "\n",
        "print(\"Mean absolute deviation:\",MAD(int_list2))"
      ],
      "metadata": {
        "colab": {
          "base_uri": "https://localhost:8080/"
        },
        "id": "yjWiNYGGt7So",
        "outputId": "5286325c-5dd1-4f60-9184-fb67c89f03d3"
      },
      "execution_count": null,
      "outputs": [
        {
          "output_type": "stream",
          "name": "stdout",
          "text": [
            "Mean absolute deviation: 24.06083199999999\n"
          ]
        }
      ]
    },
    {
      "cell_type": "code",
      "source": [
        "#7. Create a program to calculate the quartile deviation of a list of values.\n",
        "\n",
        "def quartile_deviation(arr):\n",
        "    q1 = np.percentile(arr, 25)\n",
        "    q3 = np.percentile(arr, 75)\n",
        "    quartile_dev = (q3 - q1) / 2\n",
        "\n",
        "    return quartile_dev\n",
        "\n",
        "\n",
        "print(\"Quartile deviation of the given list is:\",quartile_deviation(int_list2))"
      ],
      "metadata": {
        "colab": {
          "base_uri": "https://localhost:8080/"
        },
        "id": "axRicMacuCxd",
        "outputId": "c54579e5-355c-4c0a-fd9e-b5f7bf18a8cf"
      },
      "execution_count": null,
      "outputs": [
        {
          "output_type": "stream",
          "name": "stdout",
          "text": [
            "Quartile deviation of the given list is: 23.5\n"
          ]
        }
      ]
    },
    {
      "cell_type": "code",
      "source": [
        "#8. Implement a function to find the range-based coefficient of dispersion for a dataset.\n",
        "\n",
        "def coefficient_of_dispersion(arr):\n",
        "  range = max(arr)-min(arr)\n",
        "  mean = np.mean(arr)\n",
        "  return range/mean\n",
        "\n",
        "print(\"Range-based coeficient of dispersion is:\",coefficient_of_dispersion(int_list2))"
      ],
      "metadata": {
        "colab": {
          "base_uri": "https://localhost:8080/"
        },
        "id": "xloTh6IfuI_m",
        "outputId": "19c64672-ddf1-42fc-f8d9-0c7daee7dd20"
      },
      "execution_count": null,
      "outputs": [
        {
          "output_type": "stream",
          "name": "stdout",
          "text": [
            "Range-based coeficient of dispersion is: 0.3964376671845718\n"
          ]
        }
      ]
    },
    {
      "cell_type": "markdown",
      "source": [
        "**3. Write a python class representing a discrete random variable with methods to calculate its expected value and variance.**"
      ],
      "metadata": {
        "id": "o_ZO_Fvs-4iR"
      }
    },
    {
      "cell_type": "code",
      "source": [
        "class Discrete_random_variable:\n",
        "  def __init__(self,arr):\n",
        "    self.arr=arr\n",
        "\n",
        "  def expected_value(self):\n",
        "    return np.mean(self.arr)\n",
        "\n",
        "  def variance(self):\n",
        "    return np.std(self.arr)**2\n",
        "\n",
        "\n",
        "o = Discrete_random_variable(int_list2)\n",
        "print(\"Expected value:\",o.expected_value())\n",
        "print(\"Variance\",o.variance())"
      ],
      "metadata": {
        "colab": {
          "base_uri": "https://localhost:8080/"
        },
        "id": "GSl1KADp--83",
        "outputId": "75d30aad-7232-441a-8a71-5c56cb4aee30"
      },
      "execution_count": null,
      "outputs": [
        {
          "output_type": "stream",
          "name": "stdout",
          "text": [
            "Expected value: 249.724\n",
            "Variance 794.603824\n"
          ]
        }
      ]
    },
    {
      "cell_type": "markdown",
      "source": [
        "**4. Implement a program to simulate the rolling of a fair six-sided dice and calculated the expected value and variance of the outcomes.**\n",
        "\n"
      ],
      "metadata": {
        "id": "Cc3cHJHpBdOw"
      }
    },
    {
      "cell_type": "code",
      "source": [
        "class dicesimulation:\n",
        "  def __init__(self,no_of_rolls):\n",
        "    self.no_of_rolls = no_of_rolls\n",
        "    self.rolls_result = np.random.randint(1,7,self.no_of_rolls)\n",
        "\n",
        "  def print_rolls_result(self):\n",
        "     return self.rolls_result\n",
        "\n",
        "  def expected_value(self):\n",
        "    print()\n",
        "    return np.mean(self.rolls_result)\n",
        "\n",
        "  def variance(self):\n",
        "    print()\n",
        "    return np.var(self.rolls_result)\n",
        "\n",
        "o =dicesimulation(100)\n",
        "print(\"Dice result:\",o.print_rolls_result())\n",
        "\n",
        "print(\"Dice result expected value:\",o.expected_value())\n",
        "print(\"Dice result variance:\",o.variance())\n"
      ],
      "metadata": {
        "colab": {
          "base_uri": "https://localhost:8080/"
        },
        "id": "5M4WbDX6B4Y_",
        "outputId": "ca9cbe0c-de29-4622-a189-496134d1c55a"
      },
      "execution_count": null,
      "outputs": [
        {
          "output_type": "stream",
          "name": "stdout",
          "text": [
            "Dice result: [1 6 6 6 3 5 1 4 6 5 3 3 4 4 5 2 6 3 4 2 4 1 3 1 3 5 2 5 2 3 6 4 2 4 6 2 2\n",
            " 4 4 5 3 2 4 1 1 1 3 1 1 3 6 2 4 6 5 6 4 4 5 3 5 3 6 1 5 6 5 3 2 4 6 6 3 6\n",
            " 6 2 6 5 3 6 3 6 1 3 1 6 6 4 5 4 5 2 3 2 6 6 1 3 4 4]\n",
            "\n",
            "Dice result expected value: 3.76\n",
            "\n",
            "Dice result variance: 2.8823999999999996\n"
          ]
        }
      ]
    },
    {
      "cell_type": "markdown",
      "source": [
        "**5. Create a python function to generate random samples from a given probability distribution (eg. binomial,poisson) and calculate their mean and variance**"
      ],
      "metadata": {
        "id": "5acJt2sSF_EH"
      }
    },
    {
      "cell_type": "code",
      "source": [
        "# Example: Simulate 10 coin flips with a fair coin (p=0.5)\n",
        "n = 10  # number of trials\n",
        "p = 0.5  # probability of success (e.g., getting heads)\n",
        "size = 1000  # number of samples to generate\n",
        "\n",
        "# Generate samples from a binomial distribution\n",
        "binomial_dis = np.random.binomial(n, p, size)\n",
        "\n",
        "\n",
        "# Example: Simulate 1000 events occurring with a rate of 5 events per interval\n",
        "lam = 5  # rate parameter (mean number of events per interval)\n",
        "size = 1000  # number of samples to generate\n",
        "\n",
        "# Generate samples from a Poisson distribution\n",
        "poisson_dis = np.random.poisson(lam, size)\n",
        "\n",
        "\n",
        "def stats_random_sample(arr):\n",
        "  sample = np.random.choice(arr,100)\n",
        "  print(\"Sample:\",sample)\n",
        "  ()\n",
        "  print(\"Mean of sample:\",np.mean(sample))\n",
        "  print(\"Variance of sample\",np.var(sample))\n",
        "  print()\n",
        "  return\n",
        "\n",
        "print(\"Binomial Distribution\")\n",
        "stats_random_sample(binomial_dis)\n",
        "print()\n",
        "print(\"Poisson Distribution\")\n",
        "stats_random_sample(poisson_dis)"
      ],
      "metadata": {
        "colab": {
          "base_uri": "https://localhost:8080/"
        },
        "id": "6w9ZoHzgGUdB",
        "outputId": "63167bf1-f81c-48a3-e8f1-153f16476246"
      },
      "execution_count": null,
      "outputs": [
        {
          "output_type": "stream",
          "name": "stdout",
          "text": [
            "Binomial Distribution\n",
            "Sample: [2 5 4 4 5 6 6 6 6 6 5 4 3 7 5 4 6 3 1 7 4 5 5 4 6 6 6 6 3 3 5 5 5 4 5 3 6\n",
            " 6 4 6 5 4 6 6 4 7 4 3 4 4 9 5 5 4 4 6 7 6 5 6 4 7 4 7 5 6 4 5 7 5 4 7 6 3\n",
            " 7 8 6 6 9 8 4 7 6 3 4 6 3 4 4 7 3 5 2 6 1 6 6 3 3 4]\n",
            "Mean of sample: 5.01\n",
            "Variance of sample 2.4299\n",
            "\n",
            "\n",
            "Poisson Distribution\n",
            "Sample: [ 5  3  4  8  2  3  2  5  2  8  4  7  6  4  8  1  3  6  8  5  4  4  9  7\n",
            " 12  4  4  6  5  5  4  8  5  5  7 11  2  7  4  4  5  4  3  3  3  9  2  5\n",
            "  3  5  5  2  1 14  4  6  2  6  2  8  5  3  4  5  3  4  4  2  2  3  3  6\n",
            "  5  8  5  9  6  2  6  8  6  2  1  3  2  0  5  3  5  5  3  1  6  6  6  8\n",
            "  4  4  7  6]\n",
            "Mean of sample: 4.79\n",
            "Variance of sample 6.0259\n",
            "\n"
          ]
        }
      ]
    },
    {
      "cell_type": "markdown",
      "source": [
        "**6. Write a python script to generate random numbers from a Gaussian distribution and compute the mean,variance,and standard deviation of the samples.**"
      ],
      "metadata": {
        "id": "sZNA40iAJMQy"
      }
    },
    {
      "cell_type": "code",
      "source": [
        "population = np.random.normal(10,2,10000)  #mean=10,std=2,size=10000\n",
        "\n",
        "def stats_random_samples(population):\n",
        "  sample = np.random.choice(population,1000,replace=False)\n",
        "  print(\"Mean of sample=\",np.mean(sample))\n",
        "  print(\"Variance of sample=\",np.var(sample))\n",
        "  print(\"Standard deviation of sample=\",np.std(sample))\n",
        "\n",
        "\n",
        "stats_random_samples(population)"
      ],
      "metadata": {
        "colab": {
          "base_uri": "https://localhost:8080/"
        },
        "id": "9BqpMqzxJjQw",
        "outputId": "484dae81-ec95-45f1-9db4-aaa94d7d7f5e"
      },
      "execution_count": null,
      "outputs": [
        {
          "output_type": "stream",
          "name": "stdout",
          "text": [
            "Mean of sample= 10.026715790742525\n",
            "Variance of sample= 3.888804435788613\n",
            "Standard deviation of sample= 1.9720051814811779\n"
          ]
        }
      ]
    },
    {
      "cell_type": "markdown",
      "source": [
        "**7. Use seaborn library to load 'tips' dataset. Find the following from the dataset for the columns 'total_bill' and 'tip'**"
      ],
      "metadata": {
        "id": "bgsG5k-4Mjdj"
      }
    },
    {
      "cell_type": "code",
      "source": [
        "import seaborn as sns\n",
        "df=sns.load_dataset('tips')\n",
        "df.head()"
      ],
      "metadata": {
        "colab": {
          "base_uri": "https://localhost:8080/",
          "height": 206
        },
        "id": "jjcJztFCM_um",
        "outputId": "9738f347-9a59-43fe-bcb1-6fecd152e680"
      },
      "execution_count": null,
      "outputs": [
        {
          "output_type": "execute_result",
          "data": {
            "text/plain": [
              "   total_bill   tip     sex smoker  day    time  size\n",
              "0       16.99  1.01  Female     No  Sun  Dinner     2\n",
              "1       10.34  1.66    Male     No  Sun  Dinner     3\n",
              "2       21.01  3.50    Male     No  Sun  Dinner     3\n",
              "3       23.68  3.31    Male     No  Sun  Dinner     2\n",
              "4       24.59  3.61  Female     No  Sun  Dinner     4"
            ],
            "text/html": [
              "\n",
              "  <div id=\"df-ab8fa776-394a-4341-9e44-9d13542810f2\" class=\"colab-df-container\">\n",
              "    <div>\n",
              "<style scoped>\n",
              "    .dataframe tbody tr th:only-of-type {\n",
              "        vertical-align: middle;\n",
              "    }\n",
              "\n",
              "    .dataframe tbody tr th {\n",
              "        vertical-align: top;\n",
              "    }\n",
              "\n",
              "    .dataframe thead th {\n",
              "        text-align: right;\n",
              "    }\n",
              "</style>\n",
              "<table border=\"1\" class=\"dataframe\">\n",
              "  <thead>\n",
              "    <tr style=\"text-align: right;\">\n",
              "      <th></th>\n",
              "      <th>total_bill</th>\n",
              "      <th>tip</th>\n",
              "      <th>sex</th>\n",
              "      <th>smoker</th>\n",
              "      <th>day</th>\n",
              "      <th>time</th>\n",
              "      <th>size</th>\n",
              "    </tr>\n",
              "  </thead>\n",
              "  <tbody>\n",
              "    <tr>\n",
              "      <th>0</th>\n",
              "      <td>16.99</td>\n",
              "      <td>1.01</td>\n",
              "      <td>Female</td>\n",
              "      <td>No</td>\n",
              "      <td>Sun</td>\n",
              "      <td>Dinner</td>\n",
              "      <td>2</td>\n",
              "    </tr>\n",
              "    <tr>\n",
              "      <th>1</th>\n",
              "      <td>10.34</td>\n",
              "      <td>1.66</td>\n",
              "      <td>Male</td>\n",
              "      <td>No</td>\n",
              "      <td>Sun</td>\n",
              "      <td>Dinner</td>\n",
              "      <td>3</td>\n",
              "    </tr>\n",
              "    <tr>\n",
              "      <th>2</th>\n",
              "      <td>21.01</td>\n",
              "      <td>3.50</td>\n",
              "      <td>Male</td>\n",
              "      <td>No</td>\n",
              "      <td>Sun</td>\n",
              "      <td>Dinner</td>\n",
              "      <td>3</td>\n",
              "    </tr>\n",
              "    <tr>\n",
              "      <th>3</th>\n",
              "      <td>23.68</td>\n",
              "      <td>3.31</td>\n",
              "      <td>Male</td>\n",
              "      <td>No</td>\n",
              "      <td>Sun</td>\n",
              "      <td>Dinner</td>\n",
              "      <td>2</td>\n",
              "    </tr>\n",
              "    <tr>\n",
              "      <th>4</th>\n",
              "      <td>24.59</td>\n",
              "      <td>3.61</td>\n",
              "      <td>Female</td>\n",
              "      <td>No</td>\n",
              "      <td>Sun</td>\n",
              "      <td>Dinner</td>\n",
              "      <td>4</td>\n",
              "    </tr>\n",
              "  </tbody>\n",
              "</table>\n",
              "</div>\n",
              "    <div class=\"colab-df-buttons\">\n",
              "\n",
              "  <div class=\"colab-df-container\">\n",
              "    <button class=\"colab-df-convert\" onclick=\"convertToInteractive('df-ab8fa776-394a-4341-9e44-9d13542810f2')\"\n",
              "            title=\"Convert this dataframe to an interactive table.\"\n",
              "            style=\"display:none;\">\n",
              "\n",
              "  <svg xmlns=\"http://www.w3.org/2000/svg\" height=\"24px\" viewBox=\"0 -960 960 960\">\n",
              "    <path d=\"M120-120v-720h720v720H120Zm60-500h600v-160H180v160Zm220 220h160v-160H400v160Zm0 220h160v-160H400v160ZM180-400h160v-160H180v160Zm440 0h160v-160H620v160ZM180-180h160v-160H180v160Zm440 0h160v-160H620v160Z\"/>\n",
              "  </svg>\n",
              "    </button>\n",
              "\n",
              "  <style>\n",
              "    .colab-df-container {\n",
              "      display:flex;\n",
              "      gap: 12px;\n",
              "    }\n",
              "\n",
              "    .colab-df-convert {\n",
              "      background-color: #E8F0FE;\n",
              "      border: none;\n",
              "      border-radius: 50%;\n",
              "      cursor: pointer;\n",
              "      display: none;\n",
              "      fill: #1967D2;\n",
              "      height: 32px;\n",
              "      padding: 0 0 0 0;\n",
              "      width: 32px;\n",
              "    }\n",
              "\n",
              "    .colab-df-convert:hover {\n",
              "      background-color: #E2EBFA;\n",
              "      box-shadow: 0px 1px 2px rgba(60, 64, 67, 0.3), 0px 1px 3px 1px rgba(60, 64, 67, 0.15);\n",
              "      fill: #174EA6;\n",
              "    }\n",
              "\n",
              "    .colab-df-buttons div {\n",
              "      margin-bottom: 4px;\n",
              "    }\n",
              "\n",
              "    [theme=dark] .colab-df-convert {\n",
              "      background-color: #3B4455;\n",
              "      fill: #D2E3FC;\n",
              "    }\n",
              "\n",
              "    [theme=dark] .colab-df-convert:hover {\n",
              "      background-color: #434B5C;\n",
              "      box-shadow: 0px 1px 3px 1px rgba(0, 0, 0, 0.15);\n",
              "      filter: drop-shadow(0px 1px 2px rgba(0, 0, 0, 0.3));\n",
              "      fill: #FFFFFF;\n",
              "    }\n",
              "  </style>\n",
              "\n",
              "    <script>\n",
              "      const buttonEl =\n",
              "        document.querySelector('#df-ab8fa776-394a-4341-9e44-9d13542810f2 button.colab-df-convert');\n",
              "      buttonEl.style.display =\n",
              "        google.colab.kernel.accessAllowed ? 'block' : 'none';\n",
              "\n",
              "      async function convertToInteractive(key) {\n",
              "        const element = document.querySelector('#df-ab8fa776-394a-4341-9e44-9d13542810f2');\n",
              "        const dataTable =\n",
              "          await google.colab.kernel.invokeFunction('convertToInteractive',\n",
              "                                                    [key], {});\n",
              "        if (!dataTable) return;\n",
              "\n",
              "        const docLinkHtml = 'Like what you see? Visit the ' +\n",
              "          '<a target=\"_blank\" href=https://colab.research.google.com/notebooks/data_table.ipynb>data table notebook</a>'\n",
              "          + ' to learn more about interactive tables.';\n",
              "        element.innerHTML = '';\n",
              "        dataTable['output_type'] = 'display_data';\n",
              "        await google.colab.output.renderOutput(dataTable, element);\n",
              "        const docLink = document.createElement('div');\n",
              "        docLink.innerHTML = docLinkHtml;\n",
              "        element.appendChild(docLink);\n",
              "      }\n",
              "    </script>\n",
              "  </div>\n",
              "\n",
              "\n",
              "<div id=\"df-6ea27ed4-f5c1-447e-8b52-f0878a37d40d\">\n",
              "  <button class=\"colab-df-quickchart\" onclick=\"quickchart('df-6ea27ed4-f5c1-447e-8b52-f0878a37d40d')\"\n",
              "            title=\"Suggest charts\"\n",
              "            style=\"display:none;\">\n",
              "\n",
              "<svg xmlns=\"http://www.w3.org/2000/svg\" height=\"24px\"viewBox=\"0 0 24 24\"\n",
              "     width=\"24px\">\n",
              "    <g>\n",
              "        <path d=\"M19 3H5c-1.1 0-2 .9-2 2v14c0 1.1.9 2 2 2h14c1.1 0 2-.9 2-2V5c0-1.1-.9-2-2-2zM9 17H7v-7h2v7zm4 0h-2V7h2v10zm4 0h-2v-4h2v4z\"/>\n",
              "    </g>\n",
              "</svg>\n",
              "  </button>\n",
              "\n",
              "<style>\n",
              "  .colab-df-quickchart {\n",
              "      --bg-color: #E8F0FE;\n",
              "      --fill-color: #1967D2;\n",
              "      --hover-bg-color: #E2EBFA;\n",
              "      --hover-fill-color: #174EA6;\n",
              "      --disabled-fill-color: #AAA;\n",
              "      --disabled-bg-color: #DDD;\n",
              "  }\n",
              "\n",
              "  [theme=dark] .colab-df-quickchart {\n",
              "      --bg-color: #3B4455;\n",
              "      --fill-color: #D2E3FC;\n",
              "      --hover-bg-color: #434B5C;\n",
              "      --hover-fill-color: #FFFFFF;\n",
              "      --disabled-bg-color: #3B4455;\n",
              "      --disabled-fill-color: #666;\n",
              "  }\n",
              "\n",
              "  .colab-df-quickchart {\n",
              "    background-color: var(--bg-color);\n",
              "    border: none;\n",
              "    border-radius: 50%;\n",
              "    cursor: pointer;\n",
              "    display: none;\n",
              "    fill: var(--fill-color);\n",
              "    height: 32px;\n",
              "    padding: 0;\n",
              "    width: 32px;\n",
              "  }\n",
              "\n",
              "  .colab-df-quickchart:hover {\n",
              "    background-color: var(--hover-bg-color);\n",
              "    box-shadow: 0 1px 2px rgba(60, 64, 67, 0.3), 0 1px 3px 1px rgba(60, 64, 67, 0.15);\n",
              "    fill: var(--button-hover-fill-color);\n",
              "  }\n",
              "\n",
              "  .colab-df-quickchart-complete:disabled,\n",
              "  .colab-df-quickchart-complete:disabled:hover {\n",
              "    background-color: var(--disabled-bg-color);\n",
              "    fill: var(--disabled-fill-color);\n",
              "    box-shadow: none;\n",
              "  }\n",
              "\n",
              "  .colab-df-spinner {\n",
              "    border: 2px solid var(--fill-color);\n",
              "    border-color: transparent;\n",
              "    border-bottom-color: var(--fill-color);\n",
              "    animation:\n",
              "      spin 1s steps(1) infinite;\n",
              "  }\n",
              "\n",
              "  @keyframes spin {\n",
              "    0% {\n",
              "      border-color: transparent;\n",
              "      border-bottom-color: var(--fill-color);\n",
              "      border-left-color: var(--fill-color);\n",
              "    }\n",
              "    20% {\n",
              "      border-color: transparent;\n",
              "      border-left-color: var(--fill-color);\n",
              "      border-top-color: var(--fill-color);\n",
              "    }\n",
              "    30% {\n",
              "      border-color: transparent;\n",
              "      border-left-color: var(--fill-color);\n",
              "      border-top-color: var(--fill-color);\n",
              "      border-right-color: var(--fill-color);\n",
              "    }\n",
              "    40% {\n",
              "      border-color: transparent;\n",
              "      border-right-color: var(--fill-color);\n",
              "      border-top-color: var(--fill-color);\n",
              "    }\n",
              "    60% {\n",
              "      border-color: transparent;\n",
              "      border-right-color: var(--fill-color);\n",
              "    }\n",
              "    80% {\n",
              "      border-color: transparent;\n",
              "      border-right-color: var(--fill-color);\n",
              "      border-bottom-color: var(--fill-color);\n",
              "    }\n",
              "    90% {\n",
              "      border-color: transparent;\n",
              "      border-bottom-color: var(--fill-color);\n",
              "    }\n",
              "  }\n",
              "</style>\n",
              "\n",
              "  <script>\n",
              "    async function quickchart(key) {\n",
              "      const quickchartButtonEl =\n",
              "        document.querySelector('#' + key + ' button');\n",
              "      quickchartButtonEl.disabled = true;  // To prevent multiple clicks.\n",
              "      quickchartButtonEl.classList.add('colab-df-spinner');\n",
              "      try {\n",
              "        const charts = await google.colab.kernel.invokeFunction(\n",
              "            'suggestCharts', [key], {});\n",
              "      } catch (error) {\n",
              "        console.error('Error during call to suggestCharts:', error);\n",
              "      }\n",
              "      quickchartButtonEl.classList.remove('colab-df-spinner');\n",
              "      quickchartButtonEl.classList.add('colab-df-quickchart-complete');\n",
              "    }\n",
              "    (() => {\n",
              "      let quickchartButtonEl =\n",
              "        document.querySelector('#df-6ea27ed4-f5c1-447e-8b52-f0878a37d40d button');\n",
              "      quickchartButtonEl.style.display =\n",
              "        google.colab.kernel.accessAllowed ? 'block' : 'none';\n",
              "    })();\n",
              "  </script>\n",
              "</div>\n",
              "\n",
              "    </div>\n",
              "  </div>\n"
            ],
            "application/vnd.google.colaboratory.intrinsic+json": {
              "type": "dataframe",
              "variable_name": "df",
              "summary": "{\n  \"name\": \"df\",\n  \"rows\": 244,\n  \"fields\": [\n    {\n      \"column\": \"total_bill\",\n      \"properties\": {\n        \"dtype\": \"number\",\n        \"std\": 8.902411954856856,\n        \"min\": 3.07,\n        \"max\": 50.81,\n        \"num_unique_values\": 229,\n        \"samples\": [\n          22.12,\n          20.23,\n          14.78\n        ],\n        \"semantic_type\": \"\",\n        \"description\": \"\"\n      }\n    },\n    {\n      \"column\": \"tip\",\n      \"properties\": {\n        \"dtype\": \"number\",\n        \"std\": 1.3836381890011822,\n        \"min\": 1.0,\n        \"max\": 10.0,\n        \"num_unique_values\": 123,\n        \"samples\": [\n          3.35,\n          1.5,\n          6.73\n        ],\n        \"semantic_type\": \"\",\n        \"description\": \"\"\n      }\n    },\n    {\n      \"column\": \"sex\",\n      \"properties\": {\n        \"dtype\": \"category\",\n        \"num_unique_values\": 2,\n        \"samples\": [\n          \"Male\",\n          \"Female\"\n        ],\n        \"semantic_type\": \"\",\n        \"description\": \"\"\n      }\n    },\n    {\n      \"column\": \"smoker\",\n      \"properties\": {\n        \"dtype\": \"category\",\n        \"num_unique_values\": 2,\n        \"samples\": [\n          \"Yes\",\n          \"No\"\n        ],\n        \"semantic_type\": \"\",\n        \"description\": \"\"\n      }\n    },\n    {\n      \"column\": \"day\",\n      \"properties\": {\n        \"dtype\": \"category\",\n        \"num_unique_values\": 4,\n        \"samples\": [\n          \"Sat\",\n          \"Fri\"\n        ],\n        \"semantic_type\": \"\",\n        \"description\": \"\"\n      }\n    },\n    {\n      \"column\": \"time\",\n      \"properties\": {\n        \"dtype\": \"category\",\n        \"num_unique_values\": 2,\n        \"samples\": [\n          \"Lunch\",\n          \"Dinner\"\n        ],\n        \"semantic_type\": \"\",\n        \"description\": \"\"\n      }\n    },\n    {\n      \"column\": \"size\",\n      \"properties\": {\n        \"dtype\": \"number\",\n        \"std\": 0,\n        \"min\": 1,\n        \"max\": 6,\n        \"num_unique_values\": 6,\n        \"samples\": [\n          2,\n          3\n        ],\n        \"semantic_type\": \"\",\n        \"description\": \"\"\n      }\n    }\n  ]\n}"
            }
          },
          "metadata": {},
          "execution_count": 58
        }
      ]
    },
    {
      "cell_type": "code",
      "source": [
        "#1. Write a python function that calculates their skewness\n",
        "\n",
        "import scipy.stats as stats\n",
        "\n",
        "def skew(data):\n",
        "  return stats.skew(data)\n",
        "\n",
        "print(\"Skewness of total_bill=\",skew(df.total_bill))\n",
        "print(\"Skewness of tip=\",skew(df.tip))\n"
      ],
      "metadata": {
        "colab": {
          "base_uri": "https://localhost:8080/"
        },
        "id": "Ld6Q0QXdNWBe",
        "outputId": "56f775db-5ce5-4db2-e198-13c928a18a40"
      },
      "execution_count": null,
      "outputs": [
        {
          "output_type": "stream",
          "name": "stdout",
          "text": [
            "Skewness of total_bill= 1.1262346334818638\n",
            "Skewness of tip= 1.4564266884221506\n"
          ]
        }
      ]
    },
    {
      "cell_type": "code",
      "source": [
        "#2. Create a program that determines whether the columns exhibit positive skewness,negative skewness, or is approximately symmetric.\n",
        "\n",
        "import scipy.stats as stats\n",
        "\n",
        "def check_skewness(col):\n",
        "  try:\n",
        "    if stats.skew(col)<-0.5:\n",
        "      print(\"Negative skewness\")\n",
        "\n",
        "    elif stats.skew(col)>0.5:\n",
        "      print(\"Positive skewness\")\n",
        "\n",
        "    else:\n",
        "      print(\"Approximately Symmetric\")\n",
        "  except TypeError:\n",
        "    print(\"Data type not suitable for calculating skewness\")\n",
        "\n",
        "check_skewness(df.tip)\n",
        "check_skewness(df.total_bill)\n"
      ],
      "metadata": {
        "id": "u4-nrIDKOY0m",
        "colab": {
          "base_uri": "https://localhost:8080/"
        },
        "outputId": "a34a263e-91e8-4a9b-abaa-fd5a937160e0"
      },
      "execution_count": null,
      "outputs": [
        {
          "output_type": "stream",
          "name": "stdout",
          "text": [
            "Positive skewness\n",
            "Positive skewness\n"
          ]
        }
      ]
    },
    {
      "cell_type": "code",
      "source": [
        "#3. Write a function that calculates the covariance between two columns.\n",
        "\n",
        "def find_covariance(col1,col2):\n",
        "  try:\n",
        "    cov = np.cov(col1,col2)\n",
        "    return cov[0][1]\n",
        "\n",
        "  except Exception as e:\n",
        "    print(\"Error in finding\")\n",
        "    return None\n",
        "\n",
        "\n",
        "find_covariance(df.tip,df.total_bill)"
      ],
      "metadata": {
        "colab": {
          "base_uri": "https://localhost:8080/"
        },
        "id": "Q_eekhX1FQdo",
        "outputId": "b662b46e-95e2-4a31-afd8-fe5dbf37ad68"
      },
      "execution_count": null,
      "outputs": [
        {
          "output_type": "execute_result",
          "data": {
            "text/plain": [
              "8.323501629224854"
            ]
          },
          "metadata": {},
          "execution_count": 61
        }
      ]
    },
    {
      "cell_type": "code",
      "source": [
        "#4. Implement a python program that calculates the Pearson correlation coefficient between two columns.\n",
        "\n",
        "def pearson_corr(col1,col2):\n",
        "  try:\n",
        "    corr = col1.corr(col2)\n",
        "    return corr\n",
        "\n",
        "  except Exception as e:\n",
        "    print(\"Error in finding\")\n",
        "    return None\n",
        "\n",
        "\n",
        "print(pearson_corr(df['tip'],df['total_bill']))"
      ],
      "metadata": {
        "colab": {
          "base_uri": "https://localhost:8080/"
        },
        "id": "y8RXg4H3FXQq",
        "outputId": "94c3244f-e9eb-44c8-800d-b8db7509dc6f"
      },
      "execution_count": null,
      "outputs": [
        {
          "output_type": "stream",
          "name": "stdout",
          "text": [
            "0.6757341092113641\n"
          ]
        }
      ]
    },
    {
      "cell_type": "code",
      "source": [
        "#5. Write a script to visualize the correlation between two specific columns in a Pandas DataFrame using scatter plots.\n",
        "\n",
        "\n",
        "# Function to visualize correlation between two columns using scatter plot\n",
        "def visualize_correlation(df, col1, col2):\n",
        "    plt.figure(figsize=(8, 6))\n",
        "    plt.scatter(df[col1], df[col2], alpha=0.8)\n",
        "    plt.title(f\"Scatter Plot: {col1} vs {col2}\")\n",
        "    plt.xlabel(col1)\n",
        "    plt.ylabel(col2)\n",
        "    plt.grid(True)\n",
        "    plt.show()\n",
        "\n",
        "# Specify the columns you want to visualize\n",
        "col1 = 'tip'\n",
        "col2 = 'total_bill'\n",
        "\n",
        "# Visualize the correlation using scatter plot\n",
        "visualize_correlation(df, col1, col2)\n"
      ],
      "metadata": {
        "colab": {
          "base_uri": "https://localhost:8080/",
          "height": 564
        },
        "id": "szaE1NAcFhl2",
        "outputId": "b6e24dff-9dbc-4369-8189-258ecee6cb99"
      },
      "execution_count": null,
      "outputs": [
        {
          "output_type": "display_data",
          "data": {
            "text/plain": [
              "<Figure size 800x600 with 1 Axes>"
            ],
            "image/png": "[encoded data removed]"
          },
          "metadata": {}
        }
      ]
    },
    {
      "cell_type": "markdown",
      "source": [
        "**#8. Write a python function to calculate the probability density function of a continuous random varaible for a given normal distribution.**\n"
      ],
      "metadata": {
        "id": "F2vB2xVUw1e4"
      }
    },
    {
      "cell_type": "code",
      "source": [
        "\n",
        "import numpy as np\n",
        "\n",
        "def normal_pdf(x, mean, std_dev):\n",
        "    \"\"\"\n",
        "    Calculate the probability density function (PDF) of a normal distribution.\n",
        "\n",
        "    Args:\n",
        "    x (float or array-like): The value(s) at which to calculate the PDF.\n",
        "    mean (float): The mean (μ) of the normal distribution.\n",
        "    std_dev (float): The standard deviation (σ) of the normal distribution.\n",
        "\n",
        "    Returns:\n",
        "    float or array-like: The PDF value(s) corresponding to the input value(s) x.\n",
        "    \"\"\"\n",
        "    # Calculate the PDF using the formula\n",
        "    pdf = (1 / (np.sqrt(2 * np.pi) * std_dev)) * np.exp(-((x - mean) ** 2) / (2 * std_dev ** 2))\n",
        "\n",
        "    return pdf\n",
        "\n",
        "# Example usage\n",
        "x_values = np.random.normal(-3, 3, 100)  # Values of x for which to calculate the PDF\n",
        "mean = np.mean(x_values)  # Mean of the normal distribution\n",
        "std_dev = np.std(x_values)  # Standard deviation of the normal distribution\n",
        "pdf_values = normal_pdf(x_values, mean, std_dev)\n",
        "\n",
        "# Print the calculated PDF values\n",
        "for x, pdf in zip(x_values, pdf_values):\n",
        "    print(f\"x = {x:.2f}, PDF = {pdf:.6f}\")\n",
        "\n"
      ],
      "metadata": {
        "colab": {
          "base_uri": "https://localhost:8080/"
        },
        "id": "zMq2oUIkOHYQ",
        "outputId": "6585e0d0-74a9-4a82-e6db-89ef64742fb9"
      },
      "execution_count": null,
      "outputs": [
        {
          "output_type": "stream",
          "name": "stdout",
          "text": [
            "x = -1.76, PDF = 0.110502\n",
            "x = -3.80, PDF = 0.120455\n",
            "x = -4.10, PDF = 0.118061\n",
            "x = 3.03, PDF = 0.019445\n",
            "x = -10.13, PDF = 0.013089\n",
            "x = -1.82, PDF = 0.111307\n",
            "x = 0.21, PDF = 0.070192\n",
            "x = 3.05, PDF = 0.019183\n",
            "x = -3.57, PDF = 0.121628\n",
            "x = -9.62, PDF = 0.017938\n",
            "x = -2.05, PDF = 0.114550\n",
            "x = -4.58, PDF = 0.112326\n",
            "x = -8.24, PDF = 0.037666\n",
            "x = -1.42, PDF = 0.104767\n",
            "x = -6.11, PDF = 0.082923\n",
            "x = -4.76, PDF = 0.109582\n",
            "x = -0.16, PDF = 0.078494\n",
            "x = -0.85, PDF = 0.093691\n",
            "x = 0.02, PDF = 0.074323\n",
            "x = -3.94, PDF = 0.119387\n",
            "x = -4.58, PDF = 0.112297\n",
            "x = -8.79, PDF = 0.028612\n",
            "x = -4.48, PDF = 0.113663\n",
            "x = -3.25, PDF = 0.122269\n",
            "x = 2.79, PDF = 0.022232\n",
            "x = -9.03, PDF = 0.025277\n",
            "x = -4.48, PDF = 0.113661\n",
            "x = -3.67, PDF = 0.121191\n",
            "x = -8.02, PDF = 0.041579\n",
            "x = -2.73, PDF = 0.120808\n",
            "x = -2.44, PDF = 0.118736\n",
            "x = -8.51, PDF = 0.033039\n",
            "x = -11.23, PDF = 0.006053\n",
            "x = -2.11, PDF = 0.115207\n",
            "x = -3.89, PDF = 0.119804\n",
            "x = 2.08, PDF = 0.032481\n",
            "x = -6.63, PDF = 0.071003\n",
            "x = -3.71, PDF = 0.120967\n",
            "x = -5.02, PDF = 0.105305\n",
            "x = -4.67, PDF = 0.110904\n",
            "x = -8.79, PDF = 0.028680\n",
            "x = -2.40, PDF = 0.118356\n",
            "x = -5.16, PDF = 0.102618\n",
            "x = -2.56, PDF = 0.119678\n",
            "x = -1.94, PDF = 0.113003\n",
            "x = -1.25, PDF = 0.101653\n",
            "x = -2.58, PDF = 0.119868\n",
            "x = -2.95, PDF = 0.121826\n",
            "x = -3.15, PDF = 0.122227\n",
            "x = -3.75, PDF = 0.120719\n",
            "x = 2.41, PDF = 0.027411\n",
            "x = -4.93, PDF = 0.106844\n",
            "x = -0.31, PDF = 0.081919\n",
            "x = 0.28, PDF = 0.068603\n",
            "x = -2.68, PDF = 0.120546\n",
            "x = -4.04, PDF = 0.118608\n",
            "x = 2.74, PDF = 0.022950\n",
            "x = -2.12, PDF = 0.115353\n",
            "x = -1.33, PDF = 0.103134\n",
            "x = -5.40, PDF = 0.097981\n",
            "x = -1.24, PDF = 0.101505\n",
            "x = -1.34, PDF = 0.103277\n",
            "x = -12.05, PDF = 0.003164\n",
            "x = -4.38, PDF = 0.114917\n",
            "x = -4.97, PDF = 0.106116\n",
            "x = -6.05, PDF = 0.084274\n",
            "x = -4.71, PDF = 0.110279\n",
            "x = -1.00, PDF = 0.096864\n",
            "x = -2.62, PDF = 0.120128\n",
            "x = -4.74, PDF = 0.109922\n",
            "x = -5.46, PDF = 0.096917\n",
            "x = -6.32, PDF = 0.078044\n",
            "x = -3.66, PDF = 0.121234\n",
            "x = 2.78, PDF = 0.022445\n",
            "x = 3.89, PDF = 0.011313\n",
            "x = -7.16, PDF = 0.059321\n",
            "x = -6.29, PDF = 0.078852\n",
            "x = -4.16, PDF = 0.117431\n",
            "x = -1.41, PDF = 0.104609\n",
            "x = -1.47, PDF = 0.105726\n",
            "x = 0.10, PDF = 0.072598\n",
            "x = -6.42, PDF = 0.075765\n",
            "x = 0.27, PDF = 0.068645\n",
            "x = -2.28, PDF = 0.117228\n",
            "x = -0.47, PDF = 0.085444\n",
            "x = -5.45, PDF = 0.096962\n",
            "x = -2.97, PDF = 0.121866\n",
            "x = -3.07, PDF = 0.122112\n",
            "x = -2.62, PDF = 0.120158\n",
            "x = 2.37, PDF = 0.028061\n",
            "x = -5.27, PDF = 0.100646\n",
            "x = -2.98, PDF = 0.121916\n",
            "x = -5.17, PDF = 0.102432\n",
            "x = -1.30, PDF = 0.102546\n",
            "x = -4.55, PDF = 0.112682\n",
            "x = 0.37, PDF = 0.066418\n",
            "x = -6.14, PDF = 0.082204\n",
            "x = 1.21, PDF = 0.048428\n",
            "x = -5.04, PDF = 0.104871\n",
            "x = 1.46, PDF = 0.043547\n"
          ]
        }
      ]
    },
    {
      "cell_type": "code",
      "source": [
        "#9. Create a program to calculate the cumulative distribution function of exponential distribution.\n",
        "\n",
        "import numpy as np\n",
        "\n",
        "def exponential_cdf(x, rate):\n",
        "    \"\"\"\n",
        "    Calculate the cumulative distribution function (CDF) of the exponential distribution.\n",
        "\n",
        "    Args:\n",
        "    x (float or array-like): The value(s) at which to calculate the CDF.\n",
        "    rate (float): The rate parameter (λ) of the exponential distribution.\n",
        "\n",
        "    Returns:\n",
        "    float or array-like: The CDF value(s) corresponding to the input value(s) x.\n",
        "    \"\"\"\n",
        "    cdf = 1 - np.exp(-rate * x)\n",
        "    return cdf\n",
        "\n",
        "rate = 0.5  # Rate parameter (λ) of the exponential distribution\n",
        "\n",
        "x_values = np.linspace(0, 5, 100)\n",
        "\n",
        "cdf_values = exponential_cdf(x_values, rate)\n",
        "\n",
        "# Print the calculated CDF values\n",
        "for x, cdf in zip(x_values, cdf_values):\n",
        "    print(f\"x = {x:.2f}, CDF = {cdf:.6f}\")\n"
      ],
      "metadata": {
        "colab": {
          "base_uri": "https://localhost:8080/"
        },
        "id": "W_GfREvQOhM1",
        "outputId": "ae9e9084-710d-4bef-9ab0-f76f0b398791"
      },
      "execution_count": null,
      "outputs": [
        {
          "output_type": "stream",
          "name": "stdout",
          "text": [
            "x = 0.00, CDF = 0.000000\n",
            "x = 0.05, CDF = 0.024936\n",
            "x = 0.10, CDF = 0.049251\n",
            "x = 0.15, CDF = 0.072959\n",
            "x = 0.20, CDF = 0.096076\n",
            "x = 0.25, CDF = 0.118617\n",
            "x = 0.30, CDF = 0.140595\n",
            "x = 0.35, CDF = 0.162026\n",
            "x = 0.40, CDF = 0.182922\n",
            "x = 0.45, CDF = 0.203297\n",
            "x = 0.51, CDF = 0.223163\n",
            "x = 0.56, CDF = 0.242535\n",
            "x = 0.61, CDF = 0.261423\n",
            "x = 0.66, CDF = 0.279841\n",
            "x = 0.71, CDF = 0.297799\n",
            "x = 0.76, CDF = 0.315309\n",
            "x = 0.81, CDF = 0.332383\n",
            "x = 0.86, CDF = 0.349031\n",
            "x = 0.91, CDF = 0.365264\n",
            "x = 0.96, CDF = 0.381092\n",
            "x = 1.01, CDF = 0.396525\n",
            "x = 1.06, CDF = 0.411573\n",
            "x = 1.11, CDF = 0.426247\n",
            "x = 1.16, CDF = 0.440554\n",
            "x = 1.21, CDF = 0.454504\n",
            "x = 1.26, CDF = 0.468107\n",
            "x = 1.31, CDF = 0.481371\n",
            "x = 1.36, CDF = 0.494303\n",
            "x = 1.41, CDF = 0.506914\n",
            "x = 1.46, CDF = 0.519209\n",
            "x = 1.52, CDF = 0.531198\n",
            "x = 1.57, CDF = 0.542889\n",
            "x = 1.62, CDF = 0.554287\n",
            "x = 1.67, CDF = 0.565402\n",
            "x = 1.72, CDF = 0.576239\n",
            "x = 1.77, CDF = 0.586806\n",
            "x = 1.82, CDF = 0.597110\n",
            "x = 1.87, CDF = 0.607156\n",
            "x = 1.92, CDF = 0.616952\n",
            "x = 1.97, CDF = 0.626504\n",
            "x = 2.02, CDF = 0.635818\n",
            "x = 2.07, CDF = 0.644899\n",
            "x = 2.12, CDF = 0.653754\n",
            "x = 2.17, CDF = 0.662388\n",
            "x = 2.22, CDF = 0.670807\n",
            "x = 2.27, CDF = 0.679016\n",
            "x = 2.32, CDF = 0.687020\n",
            "x = 2.37, CDF = 0.694825\n",
            "x = 2.42, CDF = 0.702435\n",
            "x = 2.47, CDF = 0.709855\n",
            "x = 2.53, CDF = 0.717090\n",
            "x = 2.58, CDF = 0.724145\n",
            "x = 2.63, CDF = 0.731024\n",
            "x = 2.68, CDF = 0.737731\n",
            "x = 2.73, CDF = 0.744271\n",
            "x = 2.78, CDF = 0.750648\n",
            "x = 2.83, CDF = 0.756866\n",
            "x = 2.88, CDF = 0.762929\n",
            "x = 2.93, CDF = 0.768840\n",
            "x = 2.98, CDF = 0.774605\n",
            "x = 3.03, CDF = 0.780225\n",
            "x = 3.08, CDF = 0.785705\n",
            "x = 3.13, CDF = 0.791049\n",
            "x = 3.18, CDF = 0.796260\n",
            "x = 3.23, CDF = 0.801340\n",
            "x = 3.28, CDF = 0.806294\n",
            "x = 3.33, CDF = 0.811124\n",
            "x = 3.38, CDF = 0.815834\n",
            "x = 3.43, CDF = 0.820427\n",
            "x = 3.48, CDF = 0.824905\n",
            "x = 3.54, CDF = 0.829271\n",
            "x = 3.59, CDF = 0.833528\n",
            "x = 3.64, CDF = 0.837679\n",
            "x = 3.69, CDF = 0.841727\n",
            "x = 3.74, CDF = 0.845674\n",
            "x = 3.79, CDF = 0.849522\n",
            "x = 3.84, CDF = 0.853275\n",
            "x = 3.89, CDF = 0.856933\n",
            "x = 3.94, CDF = 0.860501\n",
            "x = 3.99, CDF = 0.863979\n",
            "x = 4.04, CDF = 0.867371\n",
            "x = 4.09, CDF = 0.870679\n",
            "x = 4.14, CDF = 0.873903\n",
            "x = 4.19, CDF = 0.877048\n",
            "x = 4.24, CDF = 0.880114\n",
            "x = 4.29, CDF = 0.883103\n",
            "x = 4.34, CDF = 0.886018\n",
            "x = 4.39, CDF = 0.888861\n",
            "x = 4.44, CDF = 0.891632\n",
            "x = 4.49, CDF = 0.894334\n",
            "x = 4.55, CDF = 0.896969\n",
            "x = 4.60, CDF = 0.899538\n",
            "x = 4.65, CDF = 0.902044\n",
            "x = 4.70, CDF = 0.904486\n",
            "x = 4.75, CDF = 0.906868\n",
            "x = 4.80, CDF = 0.909190\n",
            "x = 4.85, CDF = 0.911455\n",
            "x = 4.90, CDF = 0.913663\n",
            "x = 4.95, CDF = 0.915816\n",
            "x = 5.00, CDF = 0.917915\n"
          ]
        }
      ]
    },
    {
      "cell_type": "code",
      "source": [
        "#10. Write a Python function to calculate the probability mass function of poisson distribution.\n",
        "\n",
        "import numpy as np\n",
        "from scipy.special import factorial\n",
        "\n",
        "def poisson_pmf(k, rate):\n",
        "    \"\"\"\n",
        "    Calculate the probability mass function (PMF) of a Poisson distribution.\n",
        "\n",
        "    Args:\n",
        "    k (int or array-like): The value(s) at which to calculate the PMF.\n",
        "    rate (float): The rate parameter (λ) of the Poisson distribution.\n",
        "\n",
        "    Returns:\n",
        "    float or array-like: The PMF value(s) corresponding to the input value(s) k.\n",
        "    \"\"\"\n",
        "    # Calculate the PMF using the formula\n",
        "    pmf = (np.exp(-rate) * rate ** k) / factorial(k)\n",
        "    return pmf\n",
        "\n",
        "k_values = np.arange(0, 10)  # Values of k for which to calculate the PMF\n",
        "rate = 2  # Rate parameter (λ) of the Poisson distribution\n",
        "pmf_values = poisson_pmf(k_values, rate)\n",
        "\n",
        "# Print the calculated PMF values\n",
        "for k, pmf in zip(k_values, pmf_values):\n",
        "    print(f\"k = {k}, PMF = {pmf:.6f}\")\n",
        "\n"
      ],
      "metadata": {
        "colab": {
          "base_uri": "https://localhost:8080/"
        },
        "id": "xEFAZIKSOqa3",
        "outputId": "af81ff21-82d2-40b8-974c-295e41ae710f"
      },
      "execution_count": null,
      "outputs": [
        {
          "output_type": "stream",
          "name": "stdout",
          "text": [
            "k = 0, PMF = 0.135335\n",
            "k = 1, PMF = 0.270671\n",
            "k = 2, PMF = 0.270671\n",
            "k = 3, PMF = 0.180447\n",
            "k = 4, PMF = 0.090224\n",
            "k = 5, PMF = 0.036089\n",
            "k = 6, PMF = 0.012030\n",
            "k = 7, PMF = 0.003437\n",
            "k = 8, PMF = 0.000859\n",
            "k = 9, PMF = 0.000191\n"
          ]
        }
      ]
    },
    {
      "cell_type": "code",
      "source": [
        "#11. A company wants to test if a new website layout leads to a higher conversion rate(percentage of visitors who make a purchase).they collect data frm the old and new layouts to compare.\n",
        "#50 purchases out of 1000 visitors   -old layout\n",
        "#70 purchases out of 1000 visitors   -new layout\n",
        "#apply z test to find which layout is successful\n",
        "\n",
        "\n",
        "from statsmodels.stats.proportion import proportions_ztest\n",
        "\n",
        "old_layout = np.array([1] * 50 + [0] * 950)\n",
        "new_layout = np.array([1] * 70 + [0] * 930)\n",
        "\n",
        "p_hat = sum(new_layout)/len(new_layout)\n",
        "p_not = sum(old_layout)/len(old_layout)\n",
        "pooled_sample_prop = (sum(new_layout)+sum(old_layout))/(len(new_layout)+len(old_layout))\n",
        "z_statistics = (p_hat-p_not)/np.sqrt(pooled_sample_prop*(1-pooled_sample_prop)*(1/len(old_layout)+1/len(new_layout)))\n",
        "\n",
        "print(z_statistics)\n",
        "p_value = stats.norm.cdf(abs(z_statistics))\n",
        "\n",
        "alpha=0.05\n",
        "if p_value > alpha:\n",
        "    print(\"Fail to reject the null hypothesis: There is no significant difference in conversion rates between the old and new layouts.\")\n",
        "else:\n",
        "  print(\"Reject the null hypothesis: new layout is better than old\")"
      ],
      "metadata": {
        "colab": {
          "base_uri": "https://localhost:8080/"
        },
        "id": "XxuD8crtYzEG",
        "outputId": "0e9406bb-4035-479d-c40b-e549289ef4e4"
      },
      "execution_count": null,
      "outputs": [
        {
          "output_type": "stream",
          "name": "stdout",
          "text": [
            "1.883108942886774\n",
            "Fail to reject the null hypothesis: There is no significant difference in conversion rates between the old and new layouts.\n"
          ]
        }
      ]
    },
    {
      "cell_type": "code",
      "source": [
        "#12. A tutoring service claims that its program improves students exam score. A sample of students who participated in the program was taken,\n",
        "#and their scores before after after the program were recorded.\n",
        "\n",
        "\"\"\" use the below code to generate samples of respective arrays of marks.\n",
        "before_program =  np.array([75, 80, 85, 70, 90, 78, 92, 88, 82, 87])\n",
        "after_program = np.array([80, 85, 90, 80, 92, 80, 95, 90, 85, 88])\n",
        "\n",
        "Use z-test to find if the claims made by tutor are true or false \"\"\"\n",
        "\n",
        "\n",
        "before_program =  np.array([75, 80, 85, 70, 90, 78, 92, 88, 82, 87])\n",
        "after_program = np.array([80, 85, 90, 80, 92, 80, 95, 90, 85, 88])\n",
        "\n",
        "import scipy.stats as stats\n",
        "# Calculate the difference in scores\n",
        "difference = after_program - before_program\n",
        "\n",
        "# Perform the paired sample Z-test\n",
        "# The null hypothesis (H0) is that the mean difference is zero\n",
        "# The alternative hypothesis (H1) is that the mean difference is not zero (two-tailed test)\n",
        "Z_score, p_value = stats.ttest_rel(after_program, before_program)\n",
        "\n",
        "# Print the results\n",
        "print(\"Z-score:\", Z_score)\n",
        "print(\"p-value:\", p_value)\n",
        "\n",
        "# Interpret the results\n",
        "alpha = 0.05  # Significance level\n",
        "if p_value < alpha:\n",
        "    print(\"Reject the null hypothesis. There is sufficient evidence to conclude that the program improves students' exam scores.\")\n",
        "else:\n",
        "    print(\"Fail to reject the null hypothesis. There is not sufficient evidence to conclude that the program improves students' exam scores.\")\n"
      ],
      "metadata": {
        "colab": {
          "base_uri": "https://localhost:8080/"
        },
        "id": "KbWtXw1Dg_9C",
        "outputId": "4a29bd8e-a65e-4242-8a33-82a632c13fb7"
      },
      "execution_count": null,
      "outputs": [
        {
          "output_type": "stream",
          "name": "stdout",
          "text": [
            "Z-score: 4.593190894944668\n",
            "p-value: 0.0013030932910086035\n",
            "Reject the null hypothesis. There is sufficient evidence to conclude that the program improves students' exam scores.\n"
          ]
        }
      ]
    },
    {
      "cell_type": "code",
      "source": [
        "#13. A pharmaceutical company wants to determine if a new drug is effective in reducing blood pressure.\n",
        "# They conduct a study and record blood pressure measurements before and after adminstering the drug.\n",
        "\"\"\"\n",
        "Use the below code to ge<erate samples of respective arrays of blood pressure:\n",
        "\n",
        "\n",
        "```python\n",
        "\n",
        "before_drug = np.array([145, 150, 140, 135, 155, 160, 152, 148, 130, 138])\n",
        "\n",
        "after_drug = np.array([130, 140, 132, 128, 145, 148, 138, 136, 125, 130])\n",
        "\n",
        "  ```\n",
        "\n",
        "\n",
        "Implement z-test to find if the drug really works or not \"\"\"\n",
        "\n",
        "\n",
        "import scipy.stats as stats\n",
        "\n",
        "\n",
        "before_drug = np.array([145, 150, 140, 135, 155, 160, 152, 148, 130, 138])\n",
        "\n",
        "after_drug = np.array([130, 140, 132, 128, 145, 148, 138, 136, 125, 130])\n",
        "\n",
        "\n",
        "z_stats,p_value = stats.ttest_rel(before_drug,after_drug)\n",
        "\n",
        "alpha =0.05\n",
        "if p_value >alpha:\n",
        "  print(\"Failed to reject the Null hypothesis, there is no significant difference hence drug not effective\")\n",
        "else:\n",
        "  print(\"Reject the Null hypothesis, Drug is effective\")"
      ],
      "metadata": {
        "colab": {
          "base_uri": "https://localhost:8080/"
        },
        "id": "BUPPRPOVtXXr",
        "outputId": "4c2b71c0-91d8-494b-855b-c90b0d63d787"
      },
      "execution_count": null,
      "outputs": [
        {
          "output_type": "stream",
          "name": "stdout",
          "text": [
            "Reject the Null hypothesis, Drug is effective\n"
          ]
        }
      ]
    },
    {
      "cell_type": "code",
      "source": [
        "#14. A customer service department claims that their average response time is less than 5 minutes.\n",
        "#A sample of recent customer interactions was taken, and the reponse times were recorded/\n",
        "\n",
        "\"\"\"\n",
        "Impleme3t the below code to ge3erate the array of respo3se time:\n",
        "\n",
        "```python\n",
        "\n",
        "response_times = np.array([4.3, 3.8, 5.1, 4.9, 4.7, 4.2, 5.2, 4.5, 4.6, 4.4])\n",
        "\n",
        "```\n",
        "\n",
        "Implement z-test to fi3d the claims made by customer service departme3t are true or false\"\"\"\n",
        "\n",
        "\n",
        "import numpy as np\n",
        "import scipy.stats as stats\n",
        "import statsmodels.stats.weightstats as ws\n",
        "\n",
        "# Given data\n",
        "response_times = np.array([4.3, 3.8, 5.1, 4.9, 4.7, 4.2, 5.2, 4.5, 4.6, 4.4])\n",
        "\n",
        "# Population mean under the null hypothesis\n",
        "population_mean = 5  # minutes\n",
        "\n",
        "# Perform one-sample Z-test\n",
        "Z, p_value = ws.ztest(response_times, value=population_mean, alternative='smaller')\n",
        "alpha = 0.05\n",
        "if p_value < alpha:\n",
        "    print(\"Reject the null hypothesis. There is sufficient evidence to conclude that the average response time is less than 5 minutes.\")\n",
        "else:\n",
        "    print(\"Failed to reject the null hypothesis. There is not sufficient evidence to conclude that the average response time is less than 5 minutes.\")\n",
        "\n",
        "print(\"Z-score:\", Z)\n",
        "print(\"p-value:\", p_value)\n"
      ],
      "metadata": {
        "colab": {
          "base_uri": "https://localhost:8080/"
        },
        "id": "NawTGIfZu307",
        "outputId": "823ba3fd-be3a-4dd3-c793-d9f72a8cd7d8"
      },
      "execution_count": null,
      "outputs": [
        {
          "output_type": "stream",
          "name": "stdout",
          "text": [
            "Reject the null hypothesis. There is sufficient evidence to conclude that the average response time is less than 5 minutes.\n",
            "Z-score: -3.1844572260429627\n",
            "p-value: 0.0007251287113068958\n"
          ]
        }
      ]
    },
    {
      "cell_type": "code",
      "source": [
        "#15. A company is testing two different website layouts to see which one leads to higher click-through rates.\n",
        "# Write a Python function to perform an A/B test analysis,including the t-statistic,degrees of freedom,and p-value.\n",
        "\n",
        "import scipy.stats as stats\n",
        "\n",
        "layout_a_clicks = [28, 32, 33, 29, 31, 34, 30, 35, 36, 37]\n",
        "\n",
        "layout_b_clicks = [40, 41, 38, 42, 39, 44, 43, 41, 45, 47]\n",
        "\n",
        "# statistic,pvalue,df = stats.ttest_ind(layout_a_clicks, layout_b_clicks, equal_var=False)\n",
        "\n"
      ],
      "metadata": {
        "id": "PmvkrDxkyWgf"
      },
      "execution_count": null,
      "outputs": []
    },
    {
      "cell_type": "code",
      "source": [
        "#16. A pharmaceutical company wants to determine if a new drug is more effective than an existing drug in reducing cholesterol levels.\n",
        "#Create a program to analyze the clinical trial data and calculate the t-statistic and p-value for the treatment effect.\n",
        "\n",
        "#Use the following data of cholestrol level:\n",
        "\n",
        "\"\"\"\n",
        "\n",
        "existing_drug_levels = [180, 182, 175, 185, 178, 176, 172, 184, 179, 183]\n",
        "\n",
        "new_drug_levels = [170, 172, 165, 168, 175, 173, 170, 178, 172, 176] \"\"\"\n",
        "\n",
        "import scipy.stats as stats\n",
        "\n",
        "existing_drug_levels = [180, 182, 175, 185, 178, 176, 172, 184, 179, 183]\n",
        "\n",
        "new_drug_levels = [170, 172, 165, 168, 175, 173, 170, 178, 172, 176]\n",
        "\n",
        "#Null hypothesis : There is no change in cholestrol level hence new drug is not effective than existing drug\n",
        "#Alternate hypothesis: New drug is more effective than existing drug\n",
        "\n",
        "# Calculate t-statistic and p-value\n",
        "t_statistic, p_value = stats.ttest_ind(new_drug_levels, existing_drug_levels)\n",
        "\n",
        "print(\"T-Statistic:\", t_statistic)\n",
        "print(\"P-Value:\", p_value)\n",
        "\n",
        "alpha = 0.05\n",
        "if p_value>alpha:\n",
        "  print(\"Failed to reject the Null hypothesis\")\n",
        "else:\n",
        "  print(\"Reject the null hypothesis, hence new drug is effective\")\n"
      ],
      "metadata": {
        "colab": {
          "base_uri": "https://localhost:8080/"
        },
        "id": "4Sh_C4TmfoaA",
        "outputId": "deeb8187-e73e-4bb9-d46a-50806bc6e516"
      },
      "execution_count": null,
      "outputs": [
        {
          "output_type": "stream",
          "name": "stdout",
          "text": [
            "T-Statistic: -4.14048098620866\n",
            "P-Value: 0.0006143398442372505\n",
            "Reject the null hypothesis, hence new drug is effective\n"
          ]
        }
      ]
    },
    {
      "cell_type": "code",
      "source": [
        "#17. A school district introduces an educational intervention program to improve math scores. Write a python function to\n",
        "#analyze pre-and post-intervention test scores, calculating the t-statistic and p-value to determine if the intervention had a significant impact.\n",
        "\n",
        "\"\"\" Use the following data of test score:\n",
        "pre_intervention_scores = [80, 85, 90, 75, 88, 82, 92, 78, 85, 87]\n",
        "\n",
        "post_intervention_scores = [90, 92, 88, 92, 95, 91, 96, 93, 89, 93]\n",
        "\"\"\"\n",
        "\n",
        "pre_intervention_scores = [80, 85, 90, 75, 88, 82, 92, 78, 85, 87]\n",
        "\n",
        "post_intervention_scores = [90, 92, 88, 92, 95, 91, 96, 93, 89, 93]\n",
        "\n",
        "import scipy.stats as stats\n",
        "\n",
        "def analyze_pre_and_post(post,pre,alpha):\n",
        "  t_stats,p_value = stats.ttest_ind(post,pre)\n",
        "  print(\"t_stats:\",t_stats)\n",
        "  print(\"p_value:\",p_value)\n",
        "\n",
        "  if p_value>alpha:\n",
        "    print(\"Failed to reject the null hypothesis\")\n",
        "  else:\n",
        "    print(\"Reject the null hypothesis\")\n",
        "\n",
        "  return None\n",
        "\n",
        "\n",
        "alpha = 0.05\n",
        "#Null hypothesis: No improvement in math_score\n",
        "#Alternate hypothesis: Intervention program improved math scores\n",
        "\n",
        "analyze_pre_and_post(post_intervention_scores,pre_intervention_scores,alpha)"
      ],
      "metadata": {
        "colab": {
          "base_uri": "https://localhost:8080/"
        },
        "id": "ZroM-yBcktVu",
        "outputId": "27c67f0b-b6f9-4291-ed38-387f72bd655f"
      },
      "execution_count": null,
      "outputs": [
        {
          "output_type": "stream",
          "name": "stdout",
          "text": [
            "t_stats: 4.080355128162116\n",
            "p_value: 0.0007022570725706455\n",
            "Reject the null hypothesis\n"
          ]
        }
      ]
    },
    {
      "cell_type": "code",
      "source": [
        "#18. An HR department wants to invetigate if there's a gender-based salary gap within the company. Develop a program to\n",
        "# analyze salary data, calculate the t-statistic, and determine if there's a statistically significant difference between the average\n",
        "# salariess of male and female employees.\n",
        "\n",
        "\"\"\"Use the below code to generate synthetic data:\n",
        "\n",
        "# Generate synthetic salary data for male and female employees\n",
        "\n",
        "np.random.seed(0)  # For reproducibility\n",
        "\n",
        "male_salaries = np.random.normal(loc=50000, scale=10000, size=20)\n",
        "\n",
        "female_salaries = np.random.normal(loc=55000, scale=9000, size=20)\n",
        "\"\"\"\n",
        "\n",
        "np.random.seed(0)  # For reproducibility\n",
        "\n",
        "male_salaries = np.random.normal(loc=50000, scale=10000, size=20)\n",
        "\n",
        "female_salaries = np.random.normal(loc=55000, scale=9000, size=20)\n",
        "\n",
        "import scipy.stats as stats\n",
        "\n",
        "def gender_salary_gap_test(male_salaries, female_salaries):\n",
        "  t_stats,p_value = stats.ttest_ind(male_salaries,female_salaries)\n",
        "  return t_stats,p_value\n",
        "\n",
        "\n",
        "t_stats,p_value = gender_salary_gap_test(male_salaries, female_salaries)\n",
        "print(\"t_stats:\",t_stats)\n",
        "print(\"p_value\",p_value)\n",
        "\n",
        "alpha=0.05\n",
        "\n",
        "if p_value>alpha:\n",
        "  print(\"Failed to reject the null hypothesis,hence there is no difference in salary based on gender\")\n",
        "else:\n",
        "  print(\"Reject the Null hypothesis,hence there is difference in salary based on gender\")"
      ],
      "metadata": {
        "colab": {
          "base_uri": "https://localhost:8080/"
        },
        "id": "ERrnhffboHnn",
        "outputId": "cc69acd3-54f6-4522-fa8f-70fae5585e8f"
      },
      "execution_count": null,
      "outputs": [
        {
          "output_type": "stream",
          "name": "stdout",
          "text": [
            "t_stats: 0.06114208969631383\n",
            "p_value 0.9515665020676465\n",
            "Failed to reject the null hypothesis,hence there is no difference in salary based on gender\n"
          ]
        }
      ]
    },
    {
      "cell_type": "code",
      "source": [
        "#19. A manufacturer produces two different versions of a product and wants to compare their quality scores. Create a python function to analyze\n",
        "#quality assessment data,calculate the t-statistic,and decide whether there's a significant difference in quality between the two versions.\n",
        "\n",
        "version1_scores = [85, 88, 82, 89, 87, 84, 90, 88, 85, 86, 91, 83, 87, 84, 89, 86, 84, 88, 85, 86, 89, 90, 87, 88, 85]\n",
        "\n",
        "version2_scores = [80, 78, 83, 81, 79, 82, 76, 80, 78, 81, 77, 82, 80, 79, 82, 79, 80, 81, 79, 82, 79, 78, 80, 81, 82]\n",
        "\n",
        "\n",
        "import numpy as np\n",
        "from scipy import stats\n",
        "\n",
        "def compare_quality(version1_scores, version2_scores):\n",
        "    # Calculate t-statistic and p-value\n",
        "    t_statistic, p_value = stats.ttest_ind(version1_scores, version2_scores)\n",
        "\n",
        "    return t_statistic, p_value\n",
        "\n",
        "\n",
        "t_statistic, p_value = compare_quality(version1_scores, version2_scores)\n",
        "\n",
        "print(\"T-Statistic:\", t_statistic)\n",
        "print(\"P-Value:\", p_value)\n",
        "\n",
        "alpha = 0.05\n",
        "if p_value > alpha:\n",
        "    print(\"Failed to reject the null hypothesis. There is no statistically significant difference in quality between the two versions.\")\n",
        "else:\n",
        "    print(\"Reject the null hypothesis. There is a statistically significant difference in quality between the two versions.\")\n"
      ],
      "metadata": {
        "colab": {
          "base_uri": "https://localhost:8080/"
        },
        "id": "7hDtA5CeroMt",
        "outputId": "e487c23d-c477-44f0-83eb-ec42127125eb"
      },
      "execution_count": null,
      "outputs": [
        {
          "output_type": "stream",
          "name": "stdout",
          "text": [
            "T-Statistic: 11.325830417646698\n",
            "P-Value: 3.6824250702873965e-15\n",
            "Reject the null hypothesis. There is a statistically significant difference in quality between the two versions.\n"
          ]
        }
      ]
    },
    {
      "cell_type": "code",
      "source": [
        "#20. A restuarant chain collects customer satisfaction scores for two different branches. Write a program to analyze the scores\n",
        "#calculate the t-statistic, and determine if there's a statistically significant difference in customer satisfaction between the brances.\n",
        "\n",
        "branch_a_scores = [4, 5, 3, 4, 5, 4, 5, 3, 4, 4, 5, 4, 4, 3, 4, 5, 5, 4, 3, 4, 5, 4, 3, 5, 4, 4, 5, 3, 4, 5, 4]\n",
        "\n",
        "branch_b_scores = [3, 4, 2, 3, 4, 3, 4, 2, 3, 3, 4, 3, 3, 2, 3, 4, 4, 3, 2, 3, 4, 3, 2, 4, 3, 3, 4, 2, 3, 4, 3]\n",
        "\n",
        "\n",
        "import numpy as np\n",
        "from scipy import stats\n",
        "\n",
        "def compare_satisfaction(branch_a_scores, branch_b_scores):\n",
        "    # Calculate t-statistic and p-value\n",
        "    t_statistic, p_value = stats.ttest_ind(branch_a_scores, branch_b_scores)\n",
        "\n",
        "    return t_statistic, p_value\n",
        "\n",
        "\n",
        "t_statistic, p_value = compare_satisfaction(branch_a_scores, branch_b_scores)\n",
        "\n",
        "print(\"T-Statistic:\", t_statistic)\n",
        "print(\"P-Value:\", p_value)\n",
        "\n",
        "alpha = 0.05\n",
        "if p_value > alpha:\n",
        "    print(\"Failed to reject the null hypothesis. There is no statistically significant difference in satisfaction\")\n",
        "else:\n",
        "    print(\"Reject the null hypothesis. There is a statistically significant difference in satisfaction.\")"
      ],
      "metadata": {
        "colab": {
          "base_uri": "https://localhost:8080/"
        },
        "id": "NqPPc8f7sv4f",
        "outputId": "a5d9b18e-d122-4f2c-9d43-4db07adfae67"
      },
      "execution_count": null,
      "outputs": [
        {
          "output_type": "stream",
          "name": "stdout",
          "text": [
            "T-Statistic: 5.480077554195743\n",
            "P-Value: 8.895290509945655e-07\n",
            "Reject the null hypothesis. There is a statistically significant difference in satisfaction.\n"
          ]
        }
      ]
    },
    {
      "cell_type": "code",
      "source": [
        "#21. A political analyst wants to determine if there is a significant association between age groups and\n",
        "#voter preference(Candidate A or Candidate B). They collect data from a sample of 500 voters and classify them into a different\n",
        "#age groups and candidate preferences. Perform a chi-square test to determine if there is a significant association between\n",
        "#age groups and voter preferences.\n",
        "\n",
        "import pandas as pd\n",
        "import numpy as np\n",
        "from scipy.stats import chi2_contingency\n",
        "\n",
        "np.random.seed(0)\n",
        "\n",
        "age_groups = np.random.choice(['18-30', '31-50', '51+'], size=500)\n",
        "voter_preferences = np.random.choice(['Candidate A', 'Candidate B'], size=500)\n",
        "\n",
        "df = pd.DataFrame({'Age_groups':age_groups,'voter_preferences':voter_preferences})\n",
        "contingency_table= np.array(pd.crosstab(df.Age_groups,df.voter_preferences))\n",
        "\n",
        "# Perform chi-square test\n",
        "chi2, p_value, _, _ = chi2_contingency(contingency_table)\n",
        "\n",
        "print(\"Chi-Square Statistic:\", chi2)\n",
        "print(\"P-Value:\", p_value)\n",
        "\n",
        "alpha = 0.05\n",
        "if p_value > alpha:\n",
        "    print(\"Failed to reject the null hypothesis. There is no significant association between age groups and voter preferences.\")\n",
        "else:\n",
        "    print(\"Reject the null hypothesis. There is a significant association between age groups and voter preferences.\")\n"
      ],
      "metadata": {
        "colab": {
          "base_uri": "https://localhost:8080/"
        },
        "id": "at3QEhhouMG1",
        "outputId": "f343b33f-4e62-4be7-fc79-222393e6eb2c"
      },
      "execution_count": null,
      "outputs": [
        {
          "output_type": "stream",
          "name": "stdout",
          "text": [
            "Chi-Square Statistic: 0.8779923945254768\n",
            "P-Value: 0.6446832311860852\n",
            "Failed to reject the null hypothesis. There is no significant association between age groups and voter preferences.\n"
          ]
        }
      ]
    },
    {
      "cell_type": "code",
      "source": [
        "#22. A company conducted a customer satisfaction survey to determine if there is a significant relationship between\n",
        "#product satisfaction levels(Satisfied,Neutral,Dissatified)and the region where customers are located (East,West,North,South).\n",
        "#The survery data is summarized in a contingency table. Conduct a chi-square test to determine if there is a significant\n",
        "#relationship between prodouct satisfaction levels and customer region .\n",
        "\n",
        "# Sample data: Product satisfaction levels (rows) vs. Customer regions (columns)\n",
        "\n",
        "import numpy as np\n",
        "from scipy.stats import chi2_contingency\n",
        "data = np.array([[50, 30, 40, 20], [30, 40, 30, 50], [20, 30, 40, 30]])\n",
        "\n",
        "# Perform chi-square test\n",
        "chi2, p_value, _, _ = chi2_contingency(data)\n",
        "\n",
        "print(\"Chi-Square Statistic:\", chi2)\n",
        "print(\"P-Value:\", p_value)\n",
        "\n",
        "alpha = 0.05\n",
        "if p_value > alpha:\n",
        "    print(\"Failed to reject the null hypothesis. There is no significant relationship between prodouct satisfaction levels and customer region .\")\n",
        "else:\n",
        "    print(\"Reject the null hypothesis. There is a significant relationship between prodouct satisfaction levels and customer region .\")"
      ],
      "metadata": {
        "colab": {
          "base_uri": "https://localhost:8080/"
        },
        "id": "4gV8EeHS4riy",
        "outputId": "c11ceab5-e129-4180-b01c-a489747edabd"
      },
      "execution_count": null,
      "outputs": [
        {
          "output_type": "stream",
          "name": "stdout",
          "text": [
            "Chi-Square Statistic: 27.777056277056275\n",
            "P-Value: 0.00010349448486004387\n",
            "Reject the null hypothesis. There is a significant relationship between prodouct satisfaction levels and customer region .\n"
          ]
        }
      ]
    },
    {
      "cell_type": "code",
      "source": [
        "#23. A company implemented an employee training program to improve job performance(Effective,Neutral,Ineffective).\n",
        "# After the training,they collected data from a sample of employees and classified them based on their job performance\n",
        "#before and after the training.Perform a chi-square test to determine if there is a significant difference between job performance\n",
        "#levels before and after the training.\n",
        "\n",
        "# Sample data: Job performance levels before (rows) and after (columns) training\n",
        "\n",
        "data = np.array([[50, 30, 20], [30, 40, 30], [20, 30, 40]])\n",
        "import numpy as np\n",
        "from scipy.stats import chi2_contingency\n",
        "\n",
        "# Perform chi-square test\n",
        "chi2, p_value, _, _ = chi2_contingency(data)\n",
        "\n",
        "print(\"Chi-Square Statistic:\", chi2)\n",
        "print(\"P-Value:\", p_value)\n",
        "\n",
        "alpha = 0.05\n",
        "if p_value > alpha:\n",
        "  print(\"Failed to reject the null hypothesis, hence no significant difference in job performance levels before and after training\")\n",
        "else:\n",
        "  print(\"Reject the null hypothesis,there is significant differnce in job performance levels in before and after training\")"
      ],
      "metadata": {
        "colab": {
          "base_uri": "https://localhost:8080/"
        },
        "id": "5JVLX3uP_1t3",
        "outputId": "871f4d11-4e55-43cf-97f8-1395ecf3cdd1"
      },
      "execution_count": null,
      "outputs": [
        {
          "output_type": "stream",
          "name": "stdout",
          "text": [
            "Chi-Square Statistic: 22.161728395061726\n",
            "P-Value: 0.00018609719479882557\n",
            "Reject the null hypothesis,there is significant differnce in job performance levels in before and after training\n"
          ]
        }
      ]
    },
    {
      "cell_type": "code",
      "source": [
        "#24. A company produces three different versions of a product:Standard,Premium,Deluxe.The company wants to determine\n",
        "# if there is a significant differcne in customer satisfaction scores among the three product versions. they conducted a\n",
        "# survey and collected customer satisfaction scores for each version from a random sample of customers. Perform an ANOVA\n",
        "# test to determine if ther is a significant difference in customer satisfaction scores.\n",
        "\n",
        " # Sample data: Customer satisfaction scores for each product version\n",
        "\n",
        "standard_scores = [80, 85, 90, 78, 88, 82, 92, 78, 85, 87]\n",
        "\n",
        "premium_scores = [90, 92, 88, 92, 95, 91, 96, 93, 89, 93]\n",
        "\n",
        "deluxe_scores = [95, 98, 92, 97, 96, 94, 98, 97, 92, 99]\n",
        "\n",
        "\n",
        "import numpy as np\n",
        "from scipy.stats import f_oneway\n",
        "\n",
        "\n",
        "# Perform ANOVA test\n",
        "f_statistic, p_value = f_oneway(standard_scores, premium_scores, deluxe_scores)\n",
        "\n",
        "print(\"F-Statistic:\", f_statistic)\n",
        "print(\"P-Value:\", p_value)\n",
        "\n",
        "alpha = 0.05\n",
        "if p_value > alpha:\n",
        "    print(\"Failed to reject the null hypothesis. There is no significant difference in customer satisfaction scores among the three product versions.\")\n",
        "else:\n",
        "    print(\"Reject the null hypothesis. There is a significant difference in customer satisfaction scores among the three product versions.\")\n"
      ],
      "metadata": {
        "colab": {
          "base_uri": "https://localhost:8080/"
        },
        "id": "0Aoiz_WNBuH1",
        "outputId": "c4362e9b-f54e-4b47-bb1a-0a0fd36e2473"
      },
      "execution_count": null,
      "outputs": [
        {
          "output_type": "stream",
          "name": "stdout",
          "text": [
            "F-Statistic: 27.03556231003039\n",
            "P-Value: 3.5786328857349003e-07\n",
            "Reject the null hypothesis. There is a significant difference in customer satisfaction scores among the three product versions.\n"
          ]
        }
      ]
    }
  ]
}